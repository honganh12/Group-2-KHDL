{
 "cells": [
  {
   "cell_type": "code",
   "execution_count": null,
   "id": "f45960a5",
   "metadata": {},
   "outputs": [],
   "source": [
    "import pandas as pd"
   ]
  },
  {
   "cell_type": "code",
   "execution_count": null,
   "id": "1bfbe7a2",
   "metadata": {},
   "outputs": [],
   "source": [
    "# Đọc file Excel\n",
    "df = pd.read_excel('Online Retail.xlsx')"
   ]
  },
  {
   "cell_type": "code",
   "execution_count": null,
   "id": "f0795c7c",
   "metadata": {},
   "outputs": [],
   "source": [
    "# Kiểm tra kích thước của DataFrame\n",
    "df.shape"
   ]
  },
  {
   "cell_type": "code",
   "execution_count": null,
   "id": "a1d08630",
   "metadata": {},
   "outputs": [],
   "source": [
    "# Chuyển đổi cột 'InvoiceDate' thành kiểu datetime nếu chưa phải\n",
    "df['InvoiceDate'] = pd.to_datetime(df['InvoiceDate'])"
   ]
  },
  {
   "cell_type": "code",
   "execution_count": null,
   "id": "06dbbc4a",
   "metadata": {},
   "outputs": [],
   "source": [
    "# Lọc dữ liệu từ tháng 2 đến tháng 6\n",
    "data = df[(df['InvoiceDate'].dt.month >= 2) & (df['InvoiceDate'].dt.month <= 6) & (df['Quantity'] > 0)]"
   ]
  },
  {
   "cell_type": "code",
   "execution_count": null,
   "id": "8650cc7b",
   "metadata": {},
   "outputs": [],
   "source": [
    "# Kiểm tra kích thước của dữ liệu sau khi lọc\n",
    "data.shape"
   ]
  },
  {
   "cell_type": "code",
   "execution_count": null,
   "id": "80862467",
   "metadata": {},
   "outputs": [],
   "source": [
    "# Nhóm theo StockCode và tính tổng Quantity cho mỗi sản phẩm\n",
    "top_products = data.groupby('StockCode')['Quantity'].sum().reset_index()"
   ]
  },
  {
   "cell_type": "code",
   "execution_count": null,
   "id": "39b63c3c",
   "metadata": {},
   "outputs": [],
   "source": [
    "# Sắp xếp theo số lượng bán ra từ cao đến thấp\n",
    "top_products = top_products.sort_values(by='Quantity', ascending=False)"
   ]
  },
  {
   "cell_type": "code",
   "execution_count": null,
   "id": "55f92c1e",
   "metadata": {},
   "outputs": [],
   "source": [
    "# Lấy 10 sản phẩm bán chạy nhất\n",
    "top_10_products = top_products.head(10)"
   ]
  },
  {
   "cell_type": "code",
   "execution_count": null,
   "id": "7701cc83",
   "metadata": {
    "lines_to_next_cell": 2
   },
   "outputs": [],
   "source": [
    "# Hiển thị kết quả\n",
    "print(top_10_products)"
   ]
  },
  {
   "cell_type": "code",
   "execution_count": null,
   "id": "9503d851",
   "metadata": {},
   "outputs": [],
   "source": [
    "# Nhóm theo StockCode và tính tổng Quantity cho mỗi sản phẩm\n",
    "top_products = data.groupby('StockCode').agg({'Quantity': 'sum', 'Description': 'first'}).reset_index()"
   ]
  },
  {
   "cell_type": "code",
   "execution_count": null,
   "id": "ec0b19eb",
   "metadata": {},
   "outputs": [],
   "source": [
    "# Sắp xếp theo số lượng bán ra từ cao đến thấp\n",
    "top_products = top_products.sort_values(by='Quantity', ascending=False)"
   ]
  },
  {
   "cell_type": "code",
   "execution_count": null,
   "id": "d8cffaaf",
   "metadata": {},
   "outputs": [],
   "source": [
    "# Lấy 10 sản phẩm bán chạy nhất\n",
    "top_10_products = top_products.head(10)"
   ]
  },
  {
   "cell_type": "code",
   "execution_count": null,
   "id": "a3e652ae",
   "metadata": {},
   "outputs": [],
   "source": [
    "# Hiển thị kết quả\n",
    "print(top_10_products)"
   ]
  },
  {
   "cell_type": "code",
   "execution_count": null,
   "id": "9867864c",
   "metadata": {},
   "outputs": [],
   "source": []
  }
 ],
 "metadata": {
  "jupytext": {
   "cell_metadata_filter": "-all",
   "main_language": "python",
   "notebook_metadata_filter": "-all"
  }
 },
 "nbformat": 4,
 "nbformat_minor": 5
}
